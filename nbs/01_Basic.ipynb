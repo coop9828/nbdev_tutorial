{
 "cells": [
  {
   "cell_type": "markdown",
   "id": "000377b4",
   "metadata": {},
   "source": [
    "# basic functions\n",
    "> Some functions"
   ]
  },
  {
   "cell_type": "code",
   "execution_count": null,
   "id": "38e71061",
   "metadata": {},
   "outputs": [],
   "source": [
    "from nbdev_tutorial.core import foo"
   ]
  },
  {
   "cell_type": "code",
   "execution_count": null,
   "id": "7570eade",
   "metadata": {},
   "outputs": [
    {
     "data": {
      "text/plain": [
       "11"
      ]
     },
     "execution_count": null,
     "metadata": {},
     "output_type": "execute_result"
    }
   ],
   "source": [
    "foo(6,5)"
   ]
  }
 ],
 "metadata": {
  "kernelspec": {
   "display_name": "python3",
   "language": "python",
   "name": "python3"
  }
 },
 "nbformat": 4,
 "nbformat_minor": 5
}
